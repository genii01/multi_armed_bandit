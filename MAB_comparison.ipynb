{
 "cells": [
  {
   "cell_type": "code",
   "execution_count": 3,
   "id": "d438dc42",
   "metadata": {},
   "outputs": [],
   "source": [
    "#import library\n",
    "import numpy as np\n",
    "import matplotlib.pyplot as plt"
   ]
  },
  {
   "cell_type": "code",
   "execution_count": 4,
   "id": "aa29e278",
   "metadata": {},
   "outputs": [],
   "source": [
    "np.random.seed(0)\n",
    "n_arms = 4\n",
    "class Env(object):\n",
    "    thetas = [0.1,0.1,0.2,0.3]\n",
    "    \n",
    "    def react(arm):\n",
    "        return 1 if np.random.random() < Env.thetas[arm] else 0\n",
    "    \n",
    "    def opt():\n",
    "        return np.argmax(Env.thetas)"
   ]
  },
  {
   "cell_type": "code",
   "execution_count": 5,
   "id": "9fe1093f",
   "metadata": {},
   "outputs": [],
   "source": [
    "class EpsilonGreedyAgent(object):\n",
    "    \n",
    "    def __init__(self, epsilon=0.1):\n",
    "        self.epsilon = epsilon\n",
    "        self.counts = np.zeros(n_arms)\n",
    "        self.values = np.zeros(n_arms)\n",
    "        \n",
    "    def get_arm(self):\n",
    "        if np.random.random() < self.epsilon:\n",
    "            arm = np.random.randint(n_arms)\n",
    "        else:\n",
    "            arm = np.argmax(self.values)\n",
    "        return arm\n",
    "    \n",
    "    def sample(self, arm, reward):\n",
    "        self.counts[arm] +=1\n",
    "        self.values[arm] = (\n",
    "            (self.counts[arm] -1) * self.values[arm] + reward) / self.counts[arm]"
   ]
  },
  {
   "cell_type": "code",
   "execution_count": 6,
   "id": "af4e7644",
   "metadata": {},
   "outputs": [],
   "source": [
    "class AnnealingEpsilonGreedAgent(object):\n",
    "    \n",
    "    def __init__(self, epsilon = 1.0):\n",
    "        self.epsilon = epsilon\n",
    "        self.counts = np.zeros(n_arms)\n",
    "        self.values = np.zeros(n_arms)\n",
    "        \n",
    "    def get_arm(self):\n",
    "        if np.random.random() < self.epsilon:\n",
    "            arm = np.random.randint(n_arms)\n",
    "        else:\n",
    "            arm = np.argmax(self.values)\n",
    "        self.epsilon *= 0.99\n",
    "        return arm\n",
    "    \n",
    "    def sample(self, arm, reward):\n",
    "        self.counts[arm] += 1\n",
    "        self.values[arm] = (\n",
    "            (self.counts[arm] -1) * self.values[arm] + reward) / self.counts[arm]"
   ]
  },
  {
   "cell_type": "code",
   "execution_count": 17,
   "id": "1d0e6e0f",
   "metadata": {},
   "outputs": [],
   "source": [
    "class SoftmaxAgent(object):\n",
    "    def __init__(self,  tau =.05):\n",
    "        self.tau = tau\n",
    "        self.counts = np.zeros(n_arms)\n",
    "        self.values = np.zeros(n_arms)\n",
    "        \n",
    "    def softmax_p(self):\n",
    "        logit = self.values / self.tau\n",
    "        logit = logit - np.max(logit)\n",
    "        p = np.exp(logit) / sum(np.exp(logit))\n",
    "        return p\n",
    "    \n",
    "    def get_arm(self):\n",
    "        arm = np.random.choice(n_arms, p = self.softmax_p())\n",
    "        return arm\n",
    "    \n",
    "    def sample(self, arm, reward):\n",
    "        self.counts[arm] += 1\n",
    "        self.values[arm] = (\n",
    "            (self.counts[arm] -1) * self.values[arm] + reward) / self.counts[arm]\n",
    "    "
   ]
  },
  {
   "cell_type": "code",
   "execution_count": 42,
   "id": "0ae71453",
   "metadata": {},
   "outputs": [],
   "source": [
    "class AnnealingSoftmaxAgent(object):\n",
    "    \n",
    "    def __init__(self, tau = 1000.):\n",
    "        self.tau = tau\n",
    "        self.counts = np.zeros(n_arms)\n",
    "        self.values = np.zeros(n_arms)\n",
    "        \n",
    "    def softmax_p(self):\n",
    "        logit = self.values / self.tau\n",
    "        logit = logit - np.max(logit)\n",
    "        p = np.exp(logit) / sum(np.exp(logit))\n",
    "        return p\n",
    "    \n",
    "    def get_arm(self):\n",
    "        arm = np.random.choice(n_arms,  p = self.softmax_p())\n",
    "        self.tau = self.tau * 0.9\n",
    "        return arm\n",
    "    \n",
    "    def sample(self, arm, reward):\n",
    "        self.counts[arm] += 1\n",
    "        self.values[arm] = (\n",
    "            (self.counts[arm] -1) * self.values[arm] + reward) / self.counts[arm]"
   ]
  },
  {
   "cell_type": "code",
   "execution_count": 8,
   "id": "1402d1ce",
   "metadata": {},
   "outputs": [],
   "source": [
    "class BernoulliTSAgent(object):\n",
    "    \n",
    "    def __init__(self):\n",
    "        self.counts = [0 for _ in range(n_arms)]\n",
    "        self.wins = [0 for _ in range(n_arms)]\n",
    "        \n",
    "    def get_arm(self):\n",
    "        beta = lambda N, a : np.random.beta(a+1, N-a+1)\n",
    "        result = [beta(self.counts[i], self.wins[i]) for i in range(n_arms)]\n",
    "        arm = result.index(max(result))\n",
    "        return arm\n",
    "    \n",
    "    def sample(self, arm, reward):\n",
    "        self.counts[arm] = self.counts[arm] +1\n",
    "        self.wins[arm] = self.wins[arm] + reward"
   ]
  },
  {
   "cell_type": "code",
   "execution_count": 9,
   "id": "64666d0a",
   "metadata": {},
   "outputs": [],
   "source": [
    "def sim(Agent, N = 1000, T = 1000, **kwargs):\n",
    "    selected_arms = [[0 for _ in range(T)] for _ in range(N)]\n",
    "    earned_rewards = [[0 for _ in range(T)] for _ in range(N)]\n",
    "    \n",
    "    for n in range(N):\n",
    "        agent = Agent(**kwargs)\n",
    "        for t in range(T):\n",
    "            arm = agent.get_arm()\n",
    "            reward = Env.react(arm)\n",
    "            agent.sample(arm, reward)\n",
    "            selected_arms[n][t] = arm\n",
    "            earned_rewards[n][t] = reward\n",
    "    return np.array(selected_arms), np.array(earned_rewards)"
   ]
  },
  {
   "cell_type": "code",
   "execution_count": 11,
   "id": "d1776c80",
   "metadata": {},
   "outputs": [],
   "source": [
    "arms_eg, rewards_eg = sim(EpsilonGreedyAgent)"
   ]
  },
  {
   "cell_type": "code",
   "execution_count": 41,
   "id": "384a73bb",
   "metadata": {},
   "outputs": [],
   "source": [
    "arms_aeg, rewards_aeg = sim(AnnealingEpsilonGreedAgent)"
   ]
  },
  {
   "cell_type": "code",
   "execution_count": 18,
   "id": "79e1a73d",
   "metadata": {},
   "outputs": [],
   "source": [
    "arms_sm, rewards_sm  = sim(SoftmaxAgent)"
   ]
  },
  {
   "cell_type": "code",
   "execution_count": 43,
   "id": "cbf80377",
   "metadata": {},
   "outputs": [],
   "source": [
    "arms_asm, rewards_asm = sim(AnnealingSoftmaxAgent)"
   ]
  },
  {
   "cell_type": "code",
   "execution_count": 20,
   "id": "2a08edb6",
   "metadata": {},
   "outputs": [],
   "source": [
    "arms_ts, reward_ts = sim(BernoulliTSAgent)"
   ]
  },
  {
   "cell_type": "code",
   "execution_count": 44,
   "id": "27a398a9",
   "metadata": {},
   "outputs": [
    {
     "data": {
      "image/png": "[encoded data removed]",
      "text/plain": [
       "<Figure size 720x720 with 1 Axes>"
      ]
     },
     "metadata": {
      "needs_background": "light"
     },
     "output_type": "display_data"
    }
   ],
   "source": [
    "# visualization\n",
    "plt.figure(figsize = (10,10))\n",
    "plt.plot(np.mean(arms_eg == Env.opt(), axis = 0), label = 'epsilon greedy')\n",
    "plt.plot(np.mean(arms_aeg == Env.opt(), axis = 0), label = 'annealing epsilon greedy')\n",
    "plt.plot(np.mean(arms_sm == Env.opt(), axis = 0), label = 'sofmax')\n",
    "plt.plot(np.mean(arms_asm == Env.opt(), axis = 0), label = 'annealing sofmax')\n",
    "plt.plot(np.mean(arms_ts == Env.opt(), axis = 0), label = 'thompson sampling')\n",
    "plt.xlabel('t')\n",
    "plt.ylabel('probability')\n",
    "plt.legend()\n",
    "plt.show()"
   ]
  },
  {
   "cell_type": "code",
   "execution_count": 28,
   "id": "b5471aac",
   "metadata": {},
   "outputs": [
    {
     "data": {
      "text/plain": [
       "array([[3, 3, 2, ..., 3, 3, 3],\n",
       "       [3, 2, 1, ..., 3, 3, 3],\n",
       "       [0, 2, 0, ..., 3, 3, 3],\n",
       "       ...,\n",
       "       [2, 1, 2, ..., 3, 3, 3],\n",
       "       [3, 1, 0, ..., 3, 3, 3],\n",
       "       [2, 0, 2, ..., 3, 3, 3]])"
      ]
     },
     "execution_count": 28,
     "metadata": {},
     "output_type": "execute_result"
    }
   ],
   "source": [
    "arms_ts"
   ]
  },
  {
   "cell_type": "code",
   "execution_count": 30,
   "id": "7988cd9e",
   "metadata": {},
   "outputs": [
    {
     "data": {
      "text/plain": [
       "array([[0, 0, 3, ..., 3, 3, 3],\n",
       "       [0, 0, 2, ..., 3, 3, 3],\n",
       "       [3, 1, 1, ..., 3, 3, 3],\n",
       "       ...,\n",
       "       [0, 0, 0, ..., 3, 2, 2],\n",
       "       [2, 1, 2, ..., 3, 3, 3],\n",
       "       [2, 2, 2, ..., 2, 3, 3]])"
      ]
     },
     "execution_count": 30,
     "metadata": {},
     "output_type": "execute_result"
    }
   ],
   "source": [
    "arms_sm"
   ]
  },
  {
   "cell_type": "code",
   "execution_count": 31,
   "id": "383320be",
   "metadata": {},
   "outputs": [
    {
     "data": {
      "text/plain": [
       "array([[0, 0, 0, ..., 0, 1, 0],\n",
       "       [0, 0, 0, ..., 0, 1, 0],\n",
       "       [0, 0, 1, ..., 0, 0, 1],\n",
       "       ...,\n",
       "       [0, 0, 0, ..., 1, 1, 0],\n",
       "       [0, 0, 0, ..., 0, 0, 0],\n",
       "       [0, 0, 0, ..., 1, 1, 0]])"
      ]
     },
     "execution_count": 31,
     "metadata": {},
     "output_type": "execute_result"
    }
   ],
   "source": [
    "rewards_sm"
   ]
  },
  {
   "cell_type": "code",
   "execution_count": null,
   "id": "9ff88da8",
   "metadata": {},
   "outputs": [],
   "source": []
  }
 ],
 "metadata": {
  "kernelspec": {
   "display_name": "Python 3 (ipykernel)",
   "language": "python",
   "name": "python3"
  },
  "language_info": {
   "codemirror_mode": {
    "name": "ipython",
    "version": 3
   },
   "file_extension": ".py",
   "mimetype": "text/x-python",
   "name": "python",
   "nbconvert_exporter": "python",
   "pygments_lexer": "ipython3",
   "version": "3.9.7"
  }
 },
 "nbformat": 4,
 "nbformat_minor": 5
}
